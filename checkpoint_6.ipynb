{
  "nbformat": 4,
  "nbformat_minor": 0,
  "metadata": {
    "colab": {
      "provenance": []
    },
    "kernelspec": {
      "name": "python3",
      "display_name": "Python 3"
    },
    "language_info": {
      "name": "python"
    }
  },
  "cells": [
    {
      "cell_type": "code",
      "execution_count": 106,
      "metadata": {
        "colab": {
          "base_uri": "https://localhost:8080/"
        },
        "id": "yM7_wLL0l9A9",
        "outputId": "13366b9e-0ba5-4eff-e2a9-7aa9e3da0f8b"
      },
      "outputs": [
        {
          "output_type": "stream",
          "name": "stdout",
          "text": [
            "[1 2 3]\n"
          ]
        }
      ],
      "source": [
        "#question 1\n",
        "import numpy as np\n",
        "b = np.array([1,2,3,])\n",
        "b.tolist()\n",
        "\n",
        "print(b)"
      ]
    },
    {
      "cell_type": "code",
      "source": [
        "#question 2\n",
        "import numpy as np\n",
        "a = np.array([[0,1,2],[3,4,5],[6,7,8]])\n",
        "a.trace()\n"
      ],
      "metadata": {
        "colab": {
          "base_uri": "https://localhost:8080/"
        },
        "id": "T1cIxt7ImGrV",
        "outputId": "1fa9db16-f797-493e-a0e6-1dccc76a1394"
      },
      "execution_count": 84,
      "outputs": [
        {
          "output_type": "execute_result",
          "data": {
            "text/plain": [
              "12"
            ]
          },
          "metadata": {},
          "execution_count": 84
        }
      ]
    },
    {
      "cell_type": "code",
      "source": [
        "#question 3\n",
        "import numpy as np\n",
        "c = np.array([[1,2],[3,5]])\n",
        "x = 2\n",
        "print(c[c>x])"
      ],
      "metadata": {
        "colab": {
          "base_uri": "https://localhost:8080/"
        },
        "id": "ea0bK8NXo6Xz",
        "outputId": "db8b4529-72d0-4457-c5ba-91056b4c55d5"
      },
      "execution_count": 97,
      "outputs": [
        {
          "output_type": "stream",
          "name": "stdout",
          "text": [
            "[3 5]\n"
          ]
        }
      ]
    },
    {
      "cell_type": "code",
      "source": [
        "#question 4\n",
        "import numpy as np\n",
        "a = np.array([[1,2],[3,4]])\n",
        "b = np.array([[1,2],[3,4]])\n",
        "c = np.add(a,b)\n",
        "print(c)"
      ],
      "metadata": {
        "colab": {
          "base_uri": "https://localhost:8080/"
        },
        "id": "8lwCVbYB1ETi",
        "outputId": "690767b0-aca5-4eb4-eb78-840b600c3627"
      },
      "execution_count": 108,
      "outputs": [
        {
          "output_type": "stream",
          "name": "stdout",
          "text": [
            "[[2 4]\n",
            " [6 8]]\n"
          ]
        }
      ]
    },
    {
      "cell_type": "code",
      "source": [
        "#question 5\n",
        "import numpy as np\n",
        "a = np.array([[1,2],[3,4]])\n",
        "\n",
        "y = a.mean()\n",
        "\n",
        "print(a-y)"
      ],
      "metadata": {
        "colab": {
          "base_uri": "https://localhost:8080/"
        },
        "id": "iONErUGU5ZHk",
        "outputId": "97d2297c-e7f6-4138-a0f9-08c9b4f1c1c1"
      },
      "execution_count": 110,
      "outputs": [
        {
          "output_type": "stream",
          "name": "stdout",
          "text": [
            "[[-1.5 -0.5]\n",
            " [ 0.5  1.5]]\n"
          ]
        }
      ]
    },
    {
      "cell_type": "code",
      "source": [],
      "metadata": {
        "id": "Nwa36819F78S"
      },
      "execution_count": null,
      "outputs": []
    }
  ]
}